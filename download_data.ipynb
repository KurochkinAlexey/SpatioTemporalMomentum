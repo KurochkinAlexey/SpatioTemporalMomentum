{
 "cells": [
  {
   "cell_type": "code",
   "execution_count": null,
   "id": "a6a81128",
   "metadata": {},
   "outputs": [],
   "source": [
    "import pandas as pd\n",
    "import numpy as np\n",
    "import os\n",
    "import pickle\n",
    "from tqdm.notebook import tqdm\n",
    "import yfinance as yf"
   ]
  },
  {
   "cell_type": "code",
   "execution_count": null,
   "id": "d8a9c60d",
   "metadata": {},
   "outputs": [],
   "source": [
    "with open('sectors_dict.pickle', 'rb') as f:\n",
    "    sectors = pickle.load(f)"
   ]
  },
  {
   "cell_type": "code",
   "execution_count": null,
   "id": "ef1d6a38",
   "metadata": {},
   "outputs": [],
   "source": [
    "DATASET_DIRNAME = 'yf_data'\n",
    "PERIOD = '1day'\n",
    "START_DATE = '2010-01-01'"
   ]
  },
  {
   "cell_type": "code",
   "execution_count": null,
   "id": "efbeb7a3",
   "metadata": {},
   "outputs": [],
   "source": [
    "if not os.path.exists(DATASET_DIRNAME):\n",
    "    os.mkdir(DATASET_DIRNAME)"
   ]
  },
  {
   "cell_type": "code",
   "execution_count": null,
   "id": "9d5a18eb",
   "metadata": {},
   "outputs": [],
   "source": [
    "for key in tqdm(sectors.keys()):\n",
    "    if not os.path.exists(os.path.join(DATASET_DIRNAME, key)):\n",
    "        os.mkdir(os.path.join(DATASET_DIRNAME, key))\n",
    "    for symbol in sectors[key]:\n",
    "        data = yf.download(symbol, period=PERIOD, start=START_DATE)\n",
    "        data.to_csv(os.path.join(DATASET_DIRNAME, key, '{}.csv'.format(symbol)))"
   ]
  },
  {
   "cell_type": "code",
   "execution_count": null,
   "id": "6b78a4e4",
   "metadata": {},
   "outputs": [],
   "source": []
  }
 ],
 "metadata": {
  "kernelspec": {
   "display_name": "Python 3 (ipykernel)",
   "language": "python",
   "name": "python3"
  },
  "language_info": {
   "codemirror_mode": {
    "name": "ipython",
    "version": 3
   },
   "file_extension": ".py",
   "mimetype": "text/x-python",
   "name": "python",
   "nbconvert_exporter": "python",
   "pygments_lexer": "ipython3",
   "version": "3.11.5"
  }
 },
 "nbformat": 4,
 "nbformat_minor": 5
}
